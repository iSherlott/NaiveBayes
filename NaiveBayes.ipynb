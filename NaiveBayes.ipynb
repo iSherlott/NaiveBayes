{
  "nbformat": 4,
  "nbformat_minor": 0,
  "metadata": {
    "colab": {
      "name": "aula1_NaiveBayes.ipynb",
      "provenance": [],
      "authorship_tag": "ABX9TyMYxRqh1attwzrXQ7IV7BB4",
      "include_colab_link": true
    },
    "kernelspec": {
      "name": "python3",
      "display_name": "Python 3"
    },
    "language_info": {
      "name": "python"
    }
  },
  "cells": [
    {
      "cell_type": "markdown",
      "metadata": {
        "id": "view-in-github",
        "colab_type": "text"
      },
      "source": [
        "<a href=\"https://colab.research.google.com/github/iSherlott/NaiveBayes/blob/main/NaiveBayes.ipynb\" target=\"_parent\"><img src=\"https://colab.research.google.com/assets/colab-badge.svg\" alt=\"Open In Colab\"/></a>"
      ]
    },
    {
      "cell_type": "markdown",
      "source": [
        "# **Dataset de entrada**"
      ],
      "metadata": {
        "id": "DDq8poVQd-wm"
      }
    },
    {
      "cell_type": "code",
      "execution_count": 1,
      "metadata": {
        "id": "ys9WL3290I0i"
      },
      "outputs": [],
      "source": [
        "import pandas as pd\n",
        "\n",
        "import warnings\n",
        "warnings.filterwarnings(\"ignore\")"
      ]
    },
    {
      "cell_type": "code",
      "source": [
        "#Importação dos Dados\n",
        "df = pd.read_csv(\"cliente_risco_credito.csv\", \";\")"
      ],
      "metadata": {
        "id": "_3KAhfKUCjl2"
      },
      "execution_count": 2,
      "outputs": []
    },
    {
      "cell_type": "code",
      "source": [
        "df"
      ],
      "metadata": {
        "colab": {
          "base_uri": "https://localhost:8080/",
          "height": 488
        },
        "id": "I565QbQ6C1zV",
        "outputId": "590cf931-bcf9-4bd5-b4f4-9cb82aa0ad34"
      },
      "execution_count": 3,
      "outputs": [
        {
          "output_type": "execute_result",
          "data": {
            "text/plain": [
              "   codigo_cliente historia_credito divida  garantia      renda_anual     risco\n",
              "0             C01             Ruim   Alta   Nenhuma         < 15.000      Alto\n",
              "1             C02     Desconhecida   Alta   Nenhuma  15.000 a 35.000      Alto\n",
              "2             C03     Desconhecida  Baixa   Nenhuma  15.000 a 35.000  Moderado\n",
              "3             C04     Desconhecida  Baixa   Nenhuma         > 35.000      Alto\n",
              "4             C05     Desconhecida  Baixa   Nenhuma         > 35.000     Baixo\n",
              "5             C06     Desconhecida  Baixa  Adequada         > 35.000     Baixo\n",
              "6             C07             Ruim  Baixa   Nenhuma         < 15.000      Alto\n",
              "7             C08             Ruim  Baixa  Adequada         > 35.000  Moderado\n",
              "8             C09              Boa  Baixa   Nenhuma         > 35.000     Baixo\n",
              "9             C10              Boa   Alta  Adequada         > 35.000     Baixo\n",
              "10            C11              Boa   Alta   Nenhuma         < 15.000      Alto\n",
              "11            C12              Boa   Alta   Nenhuma  15.000 a 35.000  Moderado\n",
              "12            C13              Boa   Alta   Nenhuma         > 35.000     Baixo\n",
              "13            C14             Ruim   Alta   Nenhuma  15.000 a 35.000      Alto"
            ],
            "text/html": [
              "\n",
              "  <div id=\"df-5ac51855-7c92-4f43-b5ea-8609dbb597ec\">\n",
              "    <div class=\"colab-df-container\">\n",
              "      <div>\n",
              "<style scoped>\n",
              "    .dataframe tbody tr th:only-of-type {\n",
              "        vertical-align: middle;\n",
              "    }\n",
              "\n",
              "    .dataframe tbody tr th {\n",
              "        vertical-align: top;\n",
              "    }\n",
              "\n",
              "    .dataframe thead th {\n",
              "        text-align: right;\n",
              "    }\n",
              "</style>\n",
              "<table border=\"1\" class=\"dataframe\">\n",
              "  <thead>\n",
              "    <tr style=\"text-align: right;\">\n",
              "      <th></th>\n",
              "      <th>codigo_cliente</th>\n",
              "      <th>historia_credito</th>\n",
              "      <th>divida</th>\n",
              "      <th>garantia</th>\n",
              "      <th>renda_anual</th>\n",
              "      <th>risco</th>\n",
              "    </tr>\n",
              "  </thead>\n",
              "  <tbody>\n",
              "    <tr>\n",
              "      <th>0</th>\n",
              "      <td>C01</td>\n",
              "      <td>Ruim</td>\n",
              "      <td>Alta</td>\n",
              "      <td>Nenhuma</td>\n",
              "      <td>&lt; 15.000</td>\n",
              "      <td>Alto</td>\n",
              "    </tr>\n",
              "    <tr>\n",
              "      <th>1</th>\n",
              "      <td>C02</td>\n",
              "      <td>Desconhecida</td>\n",
              "      <td>Alta</td>\n",
              "      <td>Nenhuma</td>\n",
              "      <td>15.000 a 35.000</td>\n",
              "      <td>Alto</td>\n",
              "    </tr>\n",
              "    <tr>\n",
              "      <th>2</th>\n",
              "      <td>C03</td>\n",
              "      <td>Desconhecida</td>\n",
              "      <td>Baixa</td>\n",
              "      <td>Nenhuma</td>\n",
              "      <td>15.000 a 35.000</td>\n",
              "      <td>Moderado</td>\n",
              "    </tr>\n",
              "    <tr>\n",
              "      <th>3</th>\n",
              "      <td>C04</td>\n",
              "      <td>Desconhecida</td>\n",
              "      <td>Baixa</td>\n",
              "      <td>Nenhuma</td>\n",
              "      <td>&gt; 35.000</td>\n",
              "      <td>Alto</td>\n",
              "    </tr>\n",
              "    <tr>\n",
              "      <th>4</th>\n",
              "      <td>C05</td>\n",
              "      <td>Desconhecida</td>\n",
              "      <td>Baixa</td>\n",
              "      <td>Nenhuma</td>\n",
              "      <td>&gt; 35.000</td>\n",
              "      <td>Baixo</td>\n",
              "    </tr>\n",
              "    <tr>\n",
              "      <th>5</th>\n",
              "      <td>C06</td>\n",
              "      <td>Desconhecida</td>\n",
              "      <td>Baixa</td>\n",
              "      <td>Adequada</td>\n",
              "      <td>&gt; 35.000</td>\n",
              "      <td>Baixo</td>\n",
              "    </tr>\n",
              "    <tr>\n",
              "      <th>6</th>\n",
              "      <td>C07</td>\n",
              "      <td>Ruim</td>\n",
              "      <td>Baixa</td>\n",
              "      <td>Nenhuma</td>\n",
              "      <td>&lt; 15.000</td>\n",
              "      <td>Alto</td>\n",
              "    </tr>\n",
              "    <tr>\n",
              "      <th>7</th>\n",
              "      <td>C08</td>\n",
              "      <td>Ruim</td>\n",
              "      <td>Baixa</td>\n",
              "      <td>Adequada</td>\n",
              "      <td>&gt; 35.000</td>\n",
              "      <td>Moderado</td>\n",
              "    </tr>\n",
              "    <tr>\n",
              "      <th>8</th>\n",
              "      <td>C09</td>\n",
              "      <td>Boa</td>\n",
              "      <td>Baixa</td>\n",
              "      <td>Nenhuma</td>\n",
              "      <td>&gt; 35.000</td>\n",
              "      <td>Baixo</td>\n",
              "    </tr>\n",
              "    <tr>\n",
              "      <th>9</th>\n",
              "      <td>C10</td>\n",
              "      <td>Boa</td>\n",
              "      <td>Alta</td>\n",
              "      <td>Adequada</td>\n",
              "      <td>&gt; 35.000</td>\n",
              "      <td>Baixo</td>\n",
              "    </tr>\n",
              "    <tr>\n",
              "      <th>10</th>\n",
              "      <td>C11</td>\n",
              "      <td>Boa</td>\n",
              "      <td>Alta</td>\n",
              "      <td>Nenhuma</td>\n",
              "      <td>&lt; 15.000</td>\n",
              "      <td>Alto</td>\n",
              "    </tr>\n",
              "    <tr>\n",
              "      <th>11</th>\n",
              "      <td>C12</td>\n",
              "      <td>Boa</td>\n",
              "      <td>Alta</td>\n",
              "      <td>Nenhuma</td>\n",
              "      <td>15.000 a 35.000</td>\n",
              "      <td>Moderado</td>\n",
              "    </tr>\n",
              "    <tr>\n",
              "      <th>12</th>\n",
              "      <td>C13</td>\n",
              "      <td>Boa</td>\n",
              "      <td>Alta</td>\n",
              "      <td>Nenhuma</td>\n",
              "      <td>&gt; 35.000</td>\n",
              "      <td>Baixo</td>\n",
              "    </tr>\n",
              "    <tr>\n",
              "      <th>13</th>\n",
              "      <td>C14</td>\n",
              "      <td>Ruim</td>\n",
              "      <td>Alta</td>\n",
              "      <td>Nenhuma</td>\n",
              "      <td>15.000 a 35.000</td>\n",
              "      <td>Alto</td>\n",
              "    </tr>\n",
              "  </tbody>\n",
              "</table>\n",
              "</div>\n",
              "      <button class=\"colab-df-convert\" onclick=\"convertToInteractive('df-5ac51855-7c92-4f43-b5ea-8609dbb597ec')\"\n",
              "              title=\"Convert this dataframe to an interactive table.\"\n",
              "              style=\"display:none;\">\n",
              "        \n",
              "  <svg xmlns=\"http://www.w3.org/2000/svg\" height=\"24px\"viewBox=\"0 0 24 24\"\n",
              "       width=\"24px\">\n",
              "    <path d=\"M0 0h24v24H0V0z\" fill=\"none\"/>\n",
              "    <path d=\"M18.56 5.44l.94 2.06.94-2.06 2.06-.94-2.06-.94-.94-2.06-.94 2.06-2.06.94zm-11 1L8.5 8.5l.94-2.06 2.06-.94-2.06-.94L8.5 2.5l-.94 2.06-2.06.94zm10 10l.94 2.06.94-2.06 2.06-.94-2.06-.94-.94-2.06-.94 2.06-2.06.94z\"/><path d=\"M17.41 7.96l-1.37-1.37c-.4-.4-.92-.59-1.43-.59-.52 0-1.04.2-1.43.59L10.3 9.45l-7.72 7.72c-.78.78-.78 2.05 0 2.83L4 21.41c.39.39.9.59 1.41.59.51 0 1.02-.2 1.41-.59l7.78-7.78 2.81-2.81c.8-.78.8-2.07 0-2.86zM5.41 20L4 18.59l7.72-7.72 1.47 1.35L5.41 20z\"/>\n",
              "  </svg>\n",
              "      </button>\n",
              "      \n",
              "  <style>\n",
              "    .colab-df-container {\n",
              "      display:flex;\n",
              "      flex-wrap:wrap;\n",
              "      gap: 12px;\n",
              "    }\n",
              "\n",
              "    .colab-df-convert {\n",
              "      background-color: #E8F0FE;\n",
              "      border: none;\n",
              "      border-radius: 50%;\n",
              "      cursor: pointer;\n",
              "      display: none;\n",
              "      fill: #1967D2;\n",
              "      height: 32px;\n",
              "      padding: 0 0 0 0;\n",
              "      width: 32px;\n",
              "    }\n",
              "\n",
              "    .colab-df-convert:hover {\n",
              "      background-color: #E2EBFA;\n",
              "      box-shadow: 0px 1px 2px rgba(60, 64, 67, 0.3), 0px 1px 3px 1px rgba(60, 64, 67, 0.15);\n",
              "      fill: #174EA6;\n",
              "    }\n",
              "\n",
              "    [theme=dark] .colab-df-convert {\n",
              "      background-color: #3B4455;\n",
              "      fill: #D2E3FC;\n",
              "    }\n",
              "\n",
              "    [theme=dark] .colab-df-convert:hover {\n",
              "      background-color: #434B5C;\n",
              "      box-shadow: 0px 1px 3px 1px rgba(0, 0, 0, 0.15);\n",
              "      filter: drop-shadow(0px 1px 2px rgba(0, 0, 0, 0.3));\n",
              "      fill: #FFFFFF;\n",
              "    }\n",
              "  </style>\n",
              "\n",
              "      <script>\n",
              "        const buttonEl =\n",
              "          document.querySelector('#df-5ac51855-7c92-4f43-b5ea-8609dbb597ec button.colab-df-convert');\n",
              "        buttonEl.style.display =\n",
              "          google.colab.kernel.accessAllowed ? 'block' : 'none';\n",
              "\n",
              "        async function convertToInteractive(key) {\n",
              "          const element = document.querySelector('#df-5ac51855-7c92-4f43-b5ea-8609dbb597ec');\n",
              "          const dataTable =\n",
              "            await google.colab.kernel.invokeFunction('convertToInteractive',\n",
              "                                                     [key], {});\n",
              "          if (!dataTable) return;\n",
              "\n",
              "          const docLinkHtml = 'Like what you see? Visit the ' +\n",
              "            '<a target=\"_blank\" href=https://colab.research.google.com/notebooks/data_table.ipynb>data table notebook</a>'\n",
              "            + ' to learn more about interactive tables.';\n",
              "          element.innerHTML = '';\n",
              "          dataTable['output_type'] = 'display_data';\n",
              "          await google.colab.output.renderOutput(dataTable, element);\n",
              "          const docLink = document.createElement('div');\n",
              "          docLink.innerHTML = docLinkHtml;\n",
              "          element.appendChild(docLink);\n",
              "        }\n",
              "      </script>\n",
              "    </div>\n",
              "  </div>\n",
              "  "
            ]
          },
          "metadata": {},
          "execution_count": 3
        }
      ]
    },
    {
      "cell_type": "code",
      "source": [
        "#Verifica se há valores Nulos/ausentes\n",
        "df.isnull().sum()"
      ],
      "metadata": {
        "colab": {
          "base_uri": "https://localhost:8080/"
        },
        "id": "QwfAlYDAKmFC",
        "outputId": "55c163f0-2fe6-49e5-c2f1-495303a601c9"
      },
      "execution_count": 4,
      "outputs": [
        {
          "output_type": "execute_result",
          "data": {
            "text/plain": [
              "codigo_cliente      0\n",
              "historia_credito    0\n",
              "divida              0\n",
              "garantia            0\n",
              "renda_anual         0\n",
              "risco               0\n",
              "dtype: int64"
            ]
          },
          "metadata": {},
          "execution_count": 4
        }
      ]
    },
    {
      "cell_type": "code",
      "source": [
        "#verifica se há valores duplicados\n",
        "df.duplicated().sum()"
      ],
      "metadata": {
        "colab": {
          "base_uri": "https://localhost:8080/"
        },
        "id": "gisDN8xFKzkK",
        "outputId": "d31fd616-542d-49d8-d70d-77f865bebfe4"
      },
      "execution_count": 5,
      "outputs": [
        {
          "output_type": "execute_result",
          "data": {
            "text/plain": [
              "0"
            ]
          },
          "metadata": {},
          "execution_count": 5
        }
      ]
    },
    {
      "cell_type": "code",
      "source": [
        "# Separando variáveis Explicativas (previsoras) e Variável TARGET (resultado)\n",
        "x = df.iloc[:, 1:5].values\n",
        "\n",
        "y = df.iloc[:, 5].values\n",
        "\n",
        "print({\n",
        "    \"Shape x\": x.shape,\n",
        "    \"Shape y\": y.shape\n",
        "    })"
      ],
      "metadata": {
        "colab": {
          "base_uri": "https://localhost:8080/"
        },
        "id": "H4fFn_A0NXEZ",
        "outputId": "26615ddc-6a45-4b6b-ac10-fa92154232a4"
      },
      "execution_count": 6,
      "outputs": [
        {
          "output_type": "stream",
          "name": "stdout",
          "text": [
            "{'Shape x': (14, 4), 'Shape y': (14,)}\n"
          ]
        }
      ]
    },
    {
      "cell_type": "code",
      "source": [
        "x"
      ],
      "metadata": {
        "colab": {
          "base_uri": "https://localhost:8080/"
        },
        "id": "tQbnVjtXO1Tg",
        "outputId": "41a127a1-f218-4f05-b2b8-d7e7bafc68a3"
      },
      "execution_count": 7,
      "outputs": [
        {
          "output_type": "execute_result",
          "data": {
            "text/plain": [
              "array([['Ruim', 'Alta', 'Nenhuma', '< 15.000'],\n",
              "       ['Desconhecida', 'Alta', 'Nenhuma', '15.000 a 35.000'],\n",
              "       ['Desconhecida', 'Baixa', 'Nenhuma', '15.000 a 35.000'],\n",
              "       ['Desconhecida', 'Baixa', 'Nenhuma', '> 35.000'],\n",
              "       ['Desconhecida', 'Baixa', 'Nenhuma', '> 35.000'],\n",
              "       ['Desconhecida', 'Baixa', 'Adequada', '> 35.000'],\n",
              "       ['Ruim', 'Baixa', 'Nenhuma', '< 15.000'],\n",
              "       ['Ruim', 'Baixa', 'Adequada', '> 35.000'],\n",
              "       ['Boa', 'Baixa', 'Nenhuma', '> 35.000'],\n",
              "       ['Boa', 'Alta', 'Adequada', '> 35.000'],\n",
              "       ['Boa', 'Alta', 'Nenhuma', '< 15.000'],\n",
              "       ['Boa', 'Alta', 'Nenhuma', '15.000 a 35.000'],\n",
              "       ['Boa', 'Alta', 'Nenhuma', '> 35.000'],\n",
              "       ['Ruim', 'Alta', 'Nenhuma', '15.000 a 35.000']], dtype=object)"
            ]
          },
          "metadata": {},
          "execution_count": 7
        }
      ]
    },
    {
      "cell_type": "code",
      "source": [
        "y"
      ],
      "metadata": {
        "colab": {
          "base_uri": "https://localhost:8080/"
        },
        "id": "32eWaZrMO-4C",
        "outputId": "5b388039-d474-45a2-9801-9d2a7c9fcee1"
      },
      "execution_count": 8,
      "outputs": [
        {
          "output_type": "execute_result",
          "data": {
            "text/plain": [
              "array(['Alto', 'Alto', 'Moderado', 'Alto', 'Baixo', 'Baixo', 'Alto',\n",
              "       'Moderado', 'Baixo', 'Baixo', 'Alto', 'Moderado', 'Baixo', 'Alto'],\n",
              "      dtype=object)"
            ]
          },
          "metadata": {},
          "execution_count": 8
        }
      ]
    },
    {
      "cell_type": "code",
      "source": [
        "#atributos categóricos devem ser convertidos para atributos numéricos\n",
        "from sklearn.preprocessing import LabelEncoder\n",
        "\n",
        "label_encoder_story = LabelEncoder()\n",
        "label_encoder_debt = LabelEncoder()\n",
        "label_encoder_assurance = LabelEncoder()\n",
        "label_encoder_income = LabelEncoder()"
      ],
      "metadata": {
        "id": "lbf5n22XQQcG"
      },
      "execution_count": 9,
      "outputs": []
    },
    {
      "cell_type": "code",
      "source": [
        "x[:, 0] = label_encoder_story.fit_transform(x[:, 0])\n",
        "x[:, 1] = label_encoder_debt.fit_transform(x[:, 1])\n",
        "x[:, 2] = label_encoder_assurance.fit_transform(x[:, 2])\n",
        "x[:, 3] = label_encoder_income.fit_transform(x[:, 3])"
      ],
      "metadata": {
        "id": "jihJHSYhQj6X"
      },
      "execution_count": 10,
      "outputs": []
    },
    {
      "cell_type": "code",
      "source": [
        "#mostrar o nome das classes para 'historia_credito'\n",
        "print(label_encoder_story.classes_)\n",
        "\n",
        "#mostrar o valor númerico para cada classe do atributo 'historia_credito'\n",
        "print(label_encoder_story.transform(label_encoder_story.classes_))"
      ],
      "metadata": {
        "colab": {
          "base_uri": "https://localhost:8080/"
        },
        "id": "p-cyxGRlRXTT",
        "outputId": "1e045269-ae2a-46a8-e811-112f80a48034"
      },
      "execution_count": 11,
      "outputs": [
        {
          "output_type": "stream",
          "name": "stdout",
          "text": [
            "['Boa' 'Desconhecida' 'Ruim']\n",
            "[0 1 2]\n"
          ]
        }
      ]
    },
    {
      "cell_type": "code",
      "source": [
        "#mostrar o nome das classes para 'divida'\n",
        "print(label_encoder_debt.classes_)\n",
        "\n",
        "#mostrar o valor númerico para cada classe do atributo 'divida'\n",
        "print(label_encoder_debt.transform(label_encoder_debt.classes_))"
      ],
      "metadata": {
        "colab": {
          "base_uri": "https://localhost:8080/"
        },
        "id": "voXNkeeoRxfl",
        "outputId": "29535e2d-aa9e-4114-a119-841f43739d14"
      },
      "execution_count": 12,
      "outputs": [
        {
          "output_type": "stream",
          "name": "stdout",
          "text": [
            "['Alta' 'Baixa']\n",
            "[0 1]\n"
          ]
        }
      ]
    },
    {
      "cell_type": "code",
      "source": [
        "#mostrar o nome das classes para 'garantia'\n",
        "print(label_encoder_assurance.classes_)\n",
        "\n",
        "#mostrar o valor númerico para cada classe do atributo 'garantia'\n",
        "print(label_encoder_assurance.transform(label_encoder_assurance.classes_))"
      ],
      "metadata": {
        "colab": {
          "base_uri": "https://localhost:8080/"
        },
        "id": "X02kf0rCedH4",
        "outputId": "e05f10f6-c7bc-4a39-9b12-cba2914d7e7d"
      },
      "execution_count": 13,
      "outputs": [
        {
          "output_type": "stream",
          "name": "stdout",
          "text": [
            "['Adequada' 'Nenhuma']\n",
            "[0 1]\n"
          ]
        }
      ]
    },
    {
      "cell_type": "code",
      "source": [
        "#mostrar o nome das classes para 'renda_anual'\n",
        "print(label_encoder_income.classes_)\n",
        "\n",
        "#mostrar o valor númerico para cada classe do atributo 'renda_anual'\n",
        "print(label_encoder_income.transform(label_encoder_income.classes_))"
      ],
      "metadata": {
        "colab": {
          "base_uri": "https://localhost:8080/"
        },
        "id": "1YHIpS_eefTI",
        "outputId": "55041c1b-ad30-4c5d-9594-3b774939fa2d"
      },
      "execution_count": 14,
      "outputs": [
        {
          "output_type": "stream",
          "name": "stdout",
          "text": [
            "['15.000 a 35.000' '< 15.000' '> 35.000']\n",
            "[0 1 2]\n"
          ]
        }
      ]
    },
    {
      "cell_type": "code",
      "source": [
        "# importando Pacote para Amostragem dos Dados\n",
        "from sklearn.model_selection import train_test_split"
      ],
      "metadata": {
        "id": "t54PXkXIS51Z"
      },
      "execution_count": 15,
      "outputs": []
    },
    {
      "cell_type": "code",
      "source": [
        "# Realizando Amostragem dos Dados\n",
        "# base de teste = 20%  / base de treino = 80%\n",
        "x_train, x_test, y_train, y_test = train_test_split(x, y, test_size = 0.2, random_state = 7)"
      ],
      "metadata": {
        "id": "QIFASRveS-tD"
      },
      "execution_count": 16,
      "outputs": []
    },
    {
      "cell_type": "code",
      "source": [
        "x_train"
      ],
      "metadata": {
        "colab": {
          "base_uri": "https://localhost:8080/"
        },
        "id": "_FqYjGQYTloZ",
        "outputId": "1d69e61a-f7ee-42ed-fd78-1084b20f7ba2"
      },
      "execution_count": 17,
      "outputs": [
        {
          "output_type": "execute_result",
          "data": {
            "text/plain": [
              "array([[1, 1, 0, 2],\n",
              "       [2, 0, 1, 1],\n",
              "       [1, 0, 1, 0],\n",
              "       [2, 0, 1, 0],\n",
              "       [0, 1, 1, 2],\n",
              "       [2, 1, 0, 2],\n",
              "       [0, 0, 1, 1],\n",
              "       [1, 1, 1, 2],\n",
              "       [2, 1, 1, 1],\n",
              "       [0, 0, 0, 2],\n",
              "       [1, 1, 1, 2]], dtype=object)"
            ]
          },
          "metadata": {},
          "execution_count": 17
        }
      ]
    },
    {
      "cell_type": "code",
      "source": [
        "x_test"
      ],
      "metadata": {
        "colab": {
          "base_uri": "https://localhost:8080/"
        },
        "id": "PEMWjgJxTnrc",
        "outputId": "57e7257c-6ba8-4270-9510-59d51fa50ba7"
      },
      "execution_count": 18,
      "outputs": [
        {
          "output_type": "execute_result",
          "data": {
            "text/plain": [
              "array([[0, 0, 1, 2],\n",
              "       [0, 0, 1, 0],\n",
              "       [1, 1, 1, 0]], dtype=object)"
            ]
          },
          "metadata": {},
          "execution_count": 18
        }
      ]
    },
    {
      "cell_type": "markdown",
      "source": [
        "# **Construindo a máquina preditiva**\n"
      ],
      "metadata": {
        "id": "I6X7xL8EUfu2"
      }
    },
    {
      "cell_type": "code",
      "source": [
        "#Importando Pacotes para Construção das Máquinas Preditivas com Machine Learning\n",
        "from sklearn.naive_bayes import GaussianNB"
      ],
      "metadata": {
        "id": "Vhypu6zEUmWx"
      },
      "execution_count": 19,
      "outputs": []
    },
    {
      "cell_type": "code",
      "source": [
        "# Algoritmo é bastante simples - geração de uma tabela de probabilidade\n",
        "\n",
        "# GaussianNB: nome de uma distribuição estatística usada para problemas genéricos - distribuição normal\n",
        "machine = GaussianNB()\n",
        "\n",
        "# Processo de treinamento da máquina preditiva, passando dados de treino\n",
        "machine.fit(x_train, y_train)"
      ],
      "metadata": {
        "colab": {
          "base_uri": "https://localhost:8080/"
        },
        "id": "QClobcJkUyIS",
        "outputId": "f176a1a5-c4a0-4355-b1f1-9bfa2e7c15d4"
      },
      "execution_count": 20,
      "outputs": [
        {
          "output_type": "execute_result",
          "data": {
            "text/plain": [
              "GaussianNB()"
            ]
          },
          "metadata": {},
          "execution_count": 20
        }
      ]
    },
    {
      "cell_type": "markdown",
      "source": [
        "# **Avaliando a máquina preditiva**"
      ],
      "metadata": {
        "id": "_cX8Ew6zVzw-"
      }
    },
    {
      "cell_type": "code",
      "source": [
        "# Importando a Métrica de Avaliação\n",
        "from sklearn.metrics import accuracy_score"
      ],
      "metadata": {
        "id": "I3RMeBUlV33u"
      },
      "execution_count": 21,
      "outputs": []
    },
    {
      "cell_type": "code",
      "source": [
        "# Avaliando a Acurácia da Máquina Preditiva com os dados de Treino\n",
        "pred_machine_train = machine.predict(x_train)\n",
        "accuracy_score(y_train, pred_machine_train)\n",
        "# Se acertar 100% os dados podem estar viciados"
      ],
      "metadata": {
        "colab": {
          "base_uri": "https://localhost:8080/"
        },
        "id": "vIz3Vru7V9-H",
        "outputId": "cded09e1-8349-470f-eac3-ee5ab31f43c2"
      },
      "execution_count": 22,
      "outputs": [
        {
          "output_type": "execute_result",
          "data": {
            "text/plain": [
              "0.9090909090909091"
            ]
          },
          "metadata": {},
          "execution_count": 22
        }
      ]
    },
    {
      "cell_type": "code",
      "source": [
        "from sklearn.metrics import classification_report\n",
        "\n",
        "print(classification_report(y_train, pred_machine_train))"
      ],
      "metadata": {
        "colab": {
          "base_uri": "https://localhost:8080/"
        },
        "id": "HTjCmWvOXVre",
        "outputId": "48e849a7-8354-4b8d-edac-4b22ab20802a"
      },
      "execution_count": 23,
      "outputs": [
        {
          "output_type": "stream",
          "name": "stdout",
          "text": [
            "              precision    recall  f1-score   support\n",
            "\n",
            "        Alto       1.00      0.83      0.91         6\n",
            "       Baixo       0.80      1.00      0.89         4\n",
            "    Moderado       1.00      1.00      1.00         1\n",
            "\n",
            "    accuracy                           0.91        11\n",
            "   macro avg       0.93      0.94      0.93        11\n",
            "weighted avg       0.93      0.91      0.91        11\n",
            "\n"
          ]
        }
      ]
    },
    {
      "cell_type": "code",
      "source": [
        "# Avaliando a Acurácia da Máquina Preditiva com dados de Teste\n",
        "pred_machine_tests = machine.predict(x_test)\n",
        "accuracy_score(y_test, pred_machine_tests)"
      ],
      "metadata": {
        "colab": {
          "base_uri": "https://localhost:8080/"
        },
        "id": "xI2Hzb2UfNwn",
        "outputId": "605884b0-871e-471b-d10d-b0fa6ecb5b08"
      },
      "execution_count": 24,
      "outputs": [
        {
          "output_type": "execute_result",
          "data": {
            "text/plain": [
              "0.3333333333333333"
            ]
          },
          "metadata": {},
          "execution_count": 24
        }
      ]
    },
    {
      "cell_type": "code",
      "source": [
        "print(classification_report(y_test, pred_machine_tests))"
      ],
      "metadata": {
        "colab": {
          "base_uri": "https://localhost:8080/"
        },
        "id": "nUHnBSOofb08",
        "outputId": "deb6b09b-695c-4250-a214-e5900d2044ff"
      },
      "execution_count": 25,
      "outputs": [
        {
          "output_type": "stream",
          "name": "stdout",
          "text": [
            "              precision    recall  f1-score   support\n",
            "\n",
            "        Alto       0.00      0.00      0.00         0\n",
            "       Baixo       1.00      1.00      1.00         1\n",
            "    Moderado       0.00      0.00      0.00         2\n",
            "\n",
            "    accuracy                           0.33         3\n",
            "   macro avg       0.33      0.33      0.33         3\n",
            "weighted avg       0.33      0.33      0.33         3\n",
            "\n"
          ]
        }
      ]
    },
    {
      "cell_type": "markdown",
      "source": [
        "# **informação sobre a variável resultado - 'risco'**"
      ],
      "metadata": {
        "id": "B3PTZbHyXCyR"
      }
    },
    {
      "cell_type": "code",
      "source": [
        "# Não é possível visualizar a tabela de probabilidade\n",
        "\n",
        "print(machine.classes_)\n",
        "print(machine.class_count_)\n",
        "print(machine.class_prior_) # porcentagem da base de dados"
      ],
      "metadata": {
        "colab": {
          "base_uri": "https://localhost:8080/"
        },
        "id": "_JqOxj1fXIMR",
        "outputId": "5e10d511-2765-4c39-b21f-1fb6407faf52"
      },
      "execution_count": 26,
      "outputs": [
        {
          "output_type": "stream",
          "name": "stdout",
          "text": [
            "['Alto' 'Baixo' 'Moderado']\n",
            "[6. 4. 1.]\n",
            "[0.54545455 0.36363636 0.09090909]\n"
          ]
        }
      ]
    },
    {
      "cell_type": "code",
      "source": [
        "'''\n",
        "Cliente 1:\n",
        "historia_credito = 0 (Boa)\n",
        "divida = 0 (Alta)\n",
        "garantia = 1 (Nenhuma)\n",
        "renda = 2 (> 35.000,00)\n",
        "\n",
        "Cliente 2:\n",
        "historia_credito = 2 (Ruim)\n",
        "divida = 0 (Alta)\n",
        "garantia = 0 (Adequada)\n",
        "renda = 1 (< 15.000,00)\n",
        "'''\n",
        "\n",
        "predict = machine.predict([[0, 0, 1, 2], [2, 0, 0, 1]])\n",
        "\n",
        "#predict retorna a classe não a porcentagem\n",
        "predict"
      ],
      "metadata": {
        "colab": {
          "base_uri": "https://localhost:8080/"
        },
        "id": "Kz923tdHXhbj",
        "outputId": "a2d5ef43-7d42-4c93-e1f2-712dd2e9d0da"
      },
      "execution_count": 27,
      "outputs": [
        {
          "output_type": "execute_result",
          "data": {
            "text/plain": [
              "array(['Baixo', 'Alto'], dtype='<U8')"
            ]
          },
          "metadata": {},
          "execution_count": 27
        }
      ]
    },
    {
      "cell_type": "markdown",
      "source": [
        "# **Como salvar nossa máquina preditiva**"
      ],
      "metadata": {
        "id": "0HgHHHXIYu-X"
      }
    },
    {
      "cell_type": "code",
      "source": [
        "#Comando de Salvamento da Máquina Preditiva\n",
        "import pickle\n",
        "\n",
        "# .pkl é a extensão  mode = wb modo escrita\n",
        "pickle_out = open(\"machine_predict.pkl\", mode = \"wb\") \n",
        "pickle.dump(machine, pickle_out)\n",
        "pickle_out.close()"
      ],
      "metadata": {
        "id": "XJuWyee_YyrO"
      },
      "execution_count": 28,
      "outputs": []
    },
    {
      "cell_type": "markdown",
      "source": [
        "# **Bônus: Criando uma Aplicação WEB com sua Máquina Preditiva**"
      ],
      "metadata": {
        "id": "p8Cx_SLJftFE"
      }
    },
    {
      "cell_type": "markdown",
      "source": [
        "*1° Instalar o Pacote para Conexão do nosso Sistema na WEB*"
      ],
      "metadata": {
        "id": "hchuqtI9f0rC"
      }
    },
    {
      "cell_type": "code",
      "source": [
        "# Instalação do Pacote para Conexão do nosso Sistema na WEB \n",
        "!pip install -q pyngrok"
      ],
      "metadata": {
        "id": "jyoMWTRgfuwT"
      },
      "execution_count": 29,
      "outputs": []
    },
    {
      "cell_type": "markdown",
      "source": [
        "*2° Instalar o Pacote para Implementação do nosso Sistema na WEB*"
      ],
      "metadata": {
        "id": "y_E4QV6Wf4qS"
      }
    },
    {
      "cell_type": "code",
      "source": [
        "# Instalação dos Pacotes para Implementação do nosso Sistema na WEB\n",
        "!pip install -q streamlit\n",
        "!pip install -q streamlit_ace\n",
        "\n",
        "!ngrok authtoken 1dLC8kQE7DmWQ1MtszMzo88gzhF_2fMy1iuJQFdm9knqanf8f"
      ],
      "metadata": {
        "colab": {
          "base_uri": "https://localhost:8080/"
        },
        "id": "lRSbjmANf6Uv",
        "outputId": "b1d609b5-60f1-4d1e-df60-f97f18120032"
      },
      "execution_count": 30,
      "outputs": [
        {
          "output_type": "stream",
          "name": "stdout",
          "text": [
            "Authtoken saved to configuration file: /root/.ngrok2/ngrok.yml\n"
          ]
        }
      ]
    },
    {
      "cell_type": "markdown",
      "source": [
        "*3° Criar o Sistema*"
      ],
      "metadata": {
        "id": "HbCoMCHAgBwT"
      }
    },
    {
      "cell_type": "code",
      "source": [
        "#Comando para Criar o Sistema no arquivo app.py\n",
        "%%writefile app.py\n",
        "\n",
        "#Importando Pacotes \n",
        "import pickle\n",
        "import streamlit as st\n",
        " \n",
        "# Carregando a Máquina Preditiva\n",
        "pickle_in = open('machine_predict.pkl', 'rb') \n",
        "machine_predict = pickle.load(pickle_in)\n",
        "\n",
        "#Manter a sessão em cache \n",
        "@st.cache()\n",
        "  \n",
        "# Criando a função que irá fazer a predição usando os dados escolhidos pelo usuário do Sistema \n",
        "def prediction(historia_credito, divida, garantia, renda_anual):   \n",
        "\n",
        "    # Pre-processando a entrada do Usuário    \n",
        "    if historia_credito == \"Boa\":\n",
        "        historia_credito = 0\n",
        "    elif historia_credito == 'Desconhecida':\n",
        "        historia_credito = 1\n",
        "    else:\n",
        "      historia_credito = 2    \n",
        " \n",
        "    if divida == \"Alta\":\n",
        "        divida = 0\n",
        "    else:\n",
        "        divida = 1\n",
        "\n",
        "    if garantia == 'Adequada':\n",
        "        garantia = 0\n",
        "    else:\n",
        "        garantia = 1  \n",
        " \n",
        "    if renda_anual == '< 15.000,00':\n",
        "        renda_anual = 1\n",
        "    elif renda_anual == '15.000,00 a 35.000,00':\n",
        "        renda_anual = 0\n",
        "    else:\n",
        "      renda_anual = 2    \n",
        "\n",
        "    # Fazendo Predições\n",
        "    prediction = machine_predict.predict( \n",
        "        [[historia_credito, divida, garantia, renda_anual]])\n",
        "        \n",
        "    if prediction == 'Alto':\n",
        "        pred = 'Alto'\n",
        "    elif prediction == 'Baixo':\n",
        "        pred = 'Baixo'\n",
        "    else:\n",
        "        pred = 'Moderado' \n",
        "          \n",
        "    return pred\n",
        "      \n",
        "  \n",
        "# Essa função é para criação da webpage  \n",
        "def main():  \n",
        "\n",
        "    # Elementos da webpage\n",
        "    html_temp = \"\"\" \n",
        "    <div style =\"background-color:pink;padding:13px\"> \n",
        "    <h1 style =\"color:white;text-align:center;\">Aula 1 - Naive Bayes</h1> \n",
        "    <h2 style =\"color:white;text-align:center;\">Sistema de Risco de Crédito</h2> \n",
        "    </div> \n",
        "    \"\"\"\n",
        "      \n",
        "    # Função do stramlit que faz o display da webpage\n",
        "    st.markdown(html_temp, unsafe_allow_html = True) \n",
        "      \n",
        "    # As linhas abaixo criam as caixas na qual o usuário vai entrar com dados da pessoa que quer verificar o risco de crédito\n",
        "    #para fazer a predição\n",
        "    historia_credito = st.selectbox('História do Crédito',('Boa', 'Desconhecida', 'Ruim'))\n",
        "    divida = st.selectbox('Dívida',('Alta', 'Baixa')) \n",
        "    garantia = st.selectbox('Garantia',('Adequada', 'Nenhuma')) \n",
        "    renda_anual = st.selectbox('Renda Anual',('< 15.000,00', '15.000,00 a 35.000,00', '> 35.000,00' )) \n",
        "    result =\"\"\n",
        "\n",
        "    #Quando o Usuário clicar no botão \"Verificar\" a Máquina Preditiva faz seu trabalho\n",
        "    if st.button(\"Verificar\"): \n",
        "        result = prediction(historia_credito, divida, garantia, renda_anual) \n",
        "        st.success(f'Risco {result}')\n",
        "\n",
        "     \n",
        "if __name__=='__main__': \n",
        "    main()"
      ],
      "metadata": {
        "colab": {
          "base_uri": "https://localhost:8080/"
        },
        "id": "bEsSQT_zgDKX",
        "outputId": "861df479-16ad-4e8c-8523-b9c4ca6ebdd9"
      },
      "execution_count": 31,
      "outputs": [
        {
          "output_type": "stream",
          "name": "stdout",
          "text": [
            "Overwriting app.py\n"
          ]
        }
      ]
    },
    {
      "cell_type": "markdown",
      "source": [
        "*4º Executar o Sistema*"
      ],
      "metadata": {
        "id": "EMck0JbBgHhh"
      }
    },
    {
      "cell_type": "code",
      "source": [
        "# Executa o sistema\n",
        "\n",
        "!streamlit run app.py &>/dev/null&"
      ],
      "metadata": {
        "id": "oSMXqGuHgJmr"
      },
      "execution_count": 32,
      "outputs": []
    },
    {
      "cell_type": "markdown",
      "source": [
        "*5° Criar a Conexão do nosso Sistema na WEB*"
      ],
      "metadata": {
        "id": "UqWDDAEegONT"
      }
    },
    {
      "cell_type": "code",
      "source": [
        "# Importando a Biblioteca para Conexão do nosso Sistema na WEB \n",
        "from pyngrok import ngrok"
      ],
      "metadata": {
        "id": "4YCOKR_agQZI"
      },
      "execution_count": 33,
      "outputs": []
    },
    {
      "cell_type": "markdown",
      "source": [
        "*6° Publicar nosso Sistema numa URL*"
      ],
      "metadata": {
        "id": "RcmsuiwygTL3"
      }
    },
    {
      "cell_type": "code",
      "source": [
        "# Publica o sistema numa URL\n",
        "public_url = ngrok.connect('8501') # porta default"
      ],
      "metadata": {
        "id": "QsoYox4KgVhT"
      },
      "execution_count": 34,
      "outputs": []
    },
    {
      "cell_type": "markdown",
      "source": [
        "*7° Abrir o Sistema via Link que contém a palavra ngrok.io*"
      ],
      "metadata": {
        "id": "YQiHQDiKgY0n"
      }
    },
    {
      "cell_type": "code",
      "source": [
        "# URL do sistema\n",
        "\n",
        "public_url"
      ],
      "metadata": {
        "colab": {
          "base_uri": "https://localhost:8080/"
        },
        "id": "M-H5ERndgbYZ",
        "outputId": "7883144a-10c9-468a-a5e6-3ad2084782c2"
      },
      "execution_count": 35,
      "outputs": [
        {
          "output_type": "execute_result",
          "data": {
            "text/plain": [
              "<NgrokTunnel: \"http://4d95-35-197-72-87.ngrok.io\" -> \"http://localhost:8501\">"
            ]
          },
          "metadata": {},
          "execution_count": 35
        }
      ]
    }
  ]
}